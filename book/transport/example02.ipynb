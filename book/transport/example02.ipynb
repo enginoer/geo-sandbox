{
 "cells": [
  {
   "cell_type": "markdown",
   "metadata": {},
   "source": [
    "# Example 2\n",
    "\n",
    "The previous example needed a few adjustments, some of which are described in more detail below: \n",
    "\n",
    "- values of the slider limits were changed\n",
    "- the `az` parameter was fixed (i.e., put inside the function)\n",
    "- adding calculated value of $R_d$ to the plot\n",
    "- adding a profile view of concentration\n",
    "\n",
    "## Add $R_d$ to Plot\n",
    "\n",
    "It may be useful to see what the calculated value of $R_d$ is. This is easy to add with the `text` method from Matplotlib, but I always have trouble remembering the name of the method as well as the arguments that are allowed. This is an excellent thing to ask an AI assistant, for example, the following question:\n",
    "\n",
    ">Add a text description to the plot that shows the value of R.\n",
    "\n",
    "Resulted in this line of code:\n",
    "\n",
    "```python\n",
    "plt.text(0.05, 0.10, f'R = {R:.2f}', transform=plt.gca().transAxes, fontsize=12, verticalalignment='top')\n",
    "```\n",
    "\n",
    "## Add profile view\n",
    "\n",
    "This example also extends the previous code by creating a \"profile view\" of the concentration along the x-axis, which is also included in the educational materials (but not the original Matlab code). First, a few questions were asked to Copilot to ask it to restructure the functions and create a profile plot; the result had to be adjusted slightly (to get $R_d$ to be passed out of the concentration function).\n",
    "\n",
    "## Code for Example 2\n",
    "\n",
    "The resulting code is provided here.\n"
   ]
  },
  {
   "cell_type": "code",
   "execution_count": null,
   "metadata": {},
   "outputs": [
    {
     "data": {
      "application/vnd.jupyter.widget-view+json": {
       "model_id": "500ddaecea4d4666b780036bb12895b6",
       "version_major": 2,
       "version_minor": 0
      },
      "text/plain": [
       "interactive(children=(FloatSlider(value=0.37, description='M [g]:', max=1.0, min=0.1), FloatSlider(value=0.3, …"
      ]
     },
     "metadata": {},
     "output_type": "display_data"
    },
    {
     "data": {
      "application/vnd.jupyter.widget-view+json": {
       "model_id": "8c6d1cbff29e4e3a9835b836a1e930f6",
       "version_major": 2,
       "version_minor": 0
      },
      "text/plain": [
       "interactive(children=(FloatSlider(value=0.37, description='M [g]:', max=1.0, min=0.1), FloatSlider(value=0.3, …"
      ]
     },
     "metadata": {},
     "output_type": "display_data"
    }
   ],
   "source": [
    "import numpy as np\n",
    "import matplotlib.pyplot as plt\n",
    "import ipywidgets as widgets\n",
    "from ipywidgets import interact\n",
    "\n",
    "def get_concentration(M, x, y, ax, ay, Kp, lambda_):\n",
    "    De = 0.6e-4  # molecular diffusion coefficient [m^2/d]\n",
    "    az = 0.003\n",
    "    n = 0.33  # porosity\n",
    "    vx = 0.081  # seepage velocity, [m/d]\n",
    "    rd = 1.810  # bulk density of the soil [g/cm^3]\n",
    "    R = 1 + ((rd * Kp) / n)  # Retardation factor\n",
    "    vrx = vx / R\n",
    "    Dx = (ax * vx + De) / R\n",
    "    Dy = (ay * vx + De) / R\n",
    "    Dz = (az * vx + De) / R\n",
    "    z = 0.0  # depth [m]\n",
    "    t = 160  # time [d]\n",
    "    return ((M / (n * 8 * ((np.pi * t) ** (3 / 2)) * ((Dx * Dy * Dz) ** 0.5))) * \\\n",
    "           np.exp((-(x - vrx * t) ** 2 / (4 * Dx * t)) - (y ** 2 / (4 * Dy * t)) - \\\n",
    "                  (z ** 2 / (4 * Dz * t)) - (lambda_ * t)), R)\n",
    "\n",
    "def plot_contours(M, ax, ay, Kp, lambda_):\n",
    "    xmin, xmax = -20, 30\n",
    "    ymin, ymax = -20, 30\n",
    "    x, y = np.meshgrid(np.linspace(xmin, xmax, 200), np.linspace(ymin, ymax, 200))\n",
    "    c = np.zeros((200, 200))\n",
    "    for i in range(200):\n",
    "        for j in range(200):\n",
    "            c[j, i], R = get_concentration(M, x[0, i], y[j, 0], ax, ay, Kp, lambda_)\n",
    "    c = 1000 * c  # convert to [g/l]\n",
    "    plt.figure()\n",
    "    plt.contour(x, y, c, levels=20)\n",
    "    plt.text(0.05, 0.10, f'R = {R:.2f}', transform=plt.gca().transAxes, fontsize=12, verticalalignment='top')\n",
    "    plt.xlabel('X (m)')\n",
    "    plt.ylabel('Y (m)')\n",
    "    plt.title('Concentration, c [g/l]')\n",
    "    plt.colorbar(label='Concentration [g/l]')\n",
    "    plt.grid(True)\n",
    "    plt.show()\n",
    "\n",
    "def plot_profile(M, ax, ay, Kp, lambda_, y_val=0):\n",
    "    xmin, xmax = -20, 30\n",
    "    x = np.linspace(xmin, xmax, 200)\n",
    "    c = np.zeros(200)\n",
    "    for i in range(200):\n",
    "        c[i], _ = get_concentration(M, x[i], y_val, ax, ay, Kp, lambda_)\n",
    "    c = 1000 * c  # convert to [g/l]\n",
    "    plt.figure()\n",
    "    plt.plot(x, c)\n",
    "    plt.xlim([-20, 30])\n",
    "    plt.ylim([0, 100])\n",
    "    plt.xlabel('X (m)')\n",
    "    plt.ylabel('Concentration [g/l]')\n",
    "    plt.title(f'Concentration Profile at Y = {y_val:.1f} m')\n",
    "    plt.grid(True)\n",
    "    plt.show()\n",
    "\n",
    "M_slider = widgets.FloatSlider(value=0.370, min=0.1, max=1, step=0.1, description='M [g]:')\n",
    "ax_slider = widgets.FloatSlider(value=0.300, min=0.1, max=10, step=0.1, description='ax [m]:')\n",
    "ay_slider = widgets.FloatSlider(value=0.060, min=0.1, max=10, step=0.1, description='ay [m]:')\n",
    "Kp_slider = widgets.FloatSlider(value=0.164, min=0.1, max=10, step=0.1, description='Kp [cm^3/g]:')\n",
    "lambda_slider = widgets.FloatSlider(value=0.004, min=0.001, max=0.01, step=0.001, description='lambda [d^-1]:')\n",
    "\n",
    "interact(plot_contours, M=M_slider, ax=ax_slider, ay=ay_slider, Kp=Kp_slider, lambda_=lambda_slider);\n",
    "interact(plot_profile, M=M_slider, ax=ax_slider, ay=ay_slider, Kp=Kp_slider, lambda_=lambda_slider,\n",
    "         y_val=widgets.FloatSlider(value=0, min=-20, max=20, step=0.1, description='Y [m]:'));"
   ]
  },
  {
   "cell_type": "code",
   "execution_count": null,
   "metadata": {},
   "outputs": [],
   "source": []
  }
 ],
 "metadata": {
  "language_info": {
   "name": "python"
  }
 },
 "nbformat": 4,
 "nbformat_minor": 2
}

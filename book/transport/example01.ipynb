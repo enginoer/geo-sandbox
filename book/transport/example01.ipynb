{
 "cells": [
  {
   "cell_type": "markdown",
   "metadata": {},
   "source": [
    "# Example 1"
   ]
  },
  {
   "cell_type": "code",
   "execution_count": 1,
   "metadata": {},
   "outputs": [
    {
     "data": {
      "application/vnd.jupyter.widget-view+json": {
       "model_id": "1a4ab20af98741aab60c91b0cbe22096",
       "version_major": 2,
       "version_minor": 0
      },
      "text/plain": [
       "interactive(children=(FloatSlider(value=1.0, description='M [g]:', max=10.0, min=0.1), FloatSlider(value=1.0, …"
      ]
     },
     "metadata": {},
     "output_type": "display_data"
    },
    {
     "data": {
      "text/plain": [
       "<function __main__.solute_transport(M, ax, ay, az, Kp, lambda_)>"
      ]
     },
     "execution_count": 1,
     "metadata": {},
     "output_type": "execute_result"
    }
   ],
   "source": [
    "import numpy as np\n",
    "import matplotlib.pyplot as plt\n",
    "import ipywidgets as widgets\n",
    "from ipywidgets import interact\n",
    "\n",
    "def solute_transport(M, ax, ay, az, Kp, lambda_):\n",
    "    De = 0.6e-4  # molecular diffusion coefficient [m^2/d]\n",
    "    n = 0.33  # porosity\n",
    "    vx = 0.081  # seepage velocity, [m/d]\n",
    "    rd = 1.810  # bulk density of the soil [g/cm^3]\n",
    "    R = 1 + ((rd * Kp) / n)  # Retardation factor\n",
    "    vrx = vx / R\n",
    "    Dx = (ax * vx + De) / R\n",
    "    Dy = (ay * vx + De) / R\n",
    "    Dz = (az * vx + De) / R\n",
    "    z = 0.0  # depth [m]\n",
    "    t = 160  # time [d]\n",
    "    xmin, xmax = -20, 30\n",
    "    ymin, ymax = -20, 30\n",
    "    x, y = np.meshgrid(np.linspace(xmin, xmax, 200), np.linspace(ymin, ymax, 200))\n",
    "    c = np.zeros((200, 200))\n",
    "    for i in range(200):\n",
    "        for j in range(200):\n",
    "            c[j, i] = (M / (n * 8 * ((np.pi * t) ** (3 / 2)) * ((Dx * Dy * Dz) ** 0.5))) * \\\n",
    "                     np.exp((-(x[0, i] - vrx * t) ** 2 / (4 * Dx * t)) - (y[j, 0] ** 2 / (4 * Dy * t)) - \\\n",
    "                            (z ** 2 / (4 * Dz * t)) - (lambda_ * t))\n",
    "    c = 1000 * c  # convert to [g/l]\n",
    "    plt.figure()\n",
    "    plt.contour(x, y, c, levels=20)\n",
    "    plt.xlabel('X (m)')\n",
    "    plt.ylabel('Y (m)')\n",
    "    plt.title('Concentration, c [g/l]')\n",
    "    plt.colorbar(label='Concentration [g/l]')\n",
    "    plt.grid(True)\n",
    "    plt.show()\n",
    "\n",
    "M_slider = widgets.FloatSlider(value=1, min=0.1, max=10, step=0.1, description='M [g]:')\n",
    "ax_slider = widgets.FloatSlider(value=1, min=0.1, max=10, step=0.1, description='ax [m]:')\n",
    "ay_slider = widgets.FloatSlider(value=1, min=0.1, max=10, step=0.1, description='ay [m]:')\n",
    "az_slider = widgets.FloatSlider(value=1, min=0.1, max=10, step=0.1, description='az [m]:')\n",
    "Kp_slider = widgets.FloatSlider(value=1, min=0.1, max=10, step=0.1, description='Kp [cm^3/g]:')\n",
    "lambda_slider = widgets.FloatSlider(value=0.1, min=0.01, max=1, step=0.01, description='lambda [d^-1]:')\n",
    "\n",
    "interact(solute_transport, M=M_slider, ax=ax_slider, ay=ay_slider, az=az_slider, Kp=Kp_slider, lambda_=lambda_slider)"
   ]
  },
  {
   "cell_type": "code",
   "execution_count": null,
   "metadata": {},
   "outputs": [],
   "source": []
  }
 ],
 "metadata": {
  "kernelspec": {
   "display_name": "mude-base",
   "language": "python",
   "name": "python3"
  },
  "language_info": {
   "codemirror_mode": {
    "name": "ipython",
    "version": 3
   },
   "file_extension": ".py",
   "mimetype": "text/x-python",
   "name": "python",
   "nbconvert_exporter": "python",
   "pygments_lexer": "ipython3",
   "version": "3.12.3"
  }
 },
 "nbformat": 4,
 "nbformat_minor": 2
}
